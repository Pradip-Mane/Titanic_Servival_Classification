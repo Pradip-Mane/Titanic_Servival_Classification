{
 "cells": [
  {
   "cell_type": "markdown",
   "id": "f01afb6e",
   "metadata": {},
   "source": [
    "### Import Libraries"
   ]
  },
  {
   "cell_type": "code",
   "execution_count": 1,
   "id": "de51aca0",
   "metadata": {},
   "outputs": [],
   "source": [
    "import numpy as np\n",
    "import pandas as pd\n",
    "\n",
    "import matplotlib\n",
    "import matplotlib.pyplot as plt\n",
    "from pandas.plotting import scatter_matrix\n",
    "\n",
    "import seaborn as sns\n",
    "\n",
    "from sklearn.linear_model import LogisticRegression\n",
    "from sklearn.model_selection import train_test_split\n",
    "\n",
    "from sklearn.metrics import confusion_matrix\n",
    "from sklearn.metrics import classification_report\n",
    "from sklearn.metrics import accuracy_score\n",
    "from sklearn.metrics import precision_score\n",
    "from sklearn.metrics import recall_score\n",
    "from sklearn.metrics import f1_score\n",
    "\n",
    "import warnings\n",
    "warnings.filterwarnings('ignore')"
   ]
  },
  {
   "cell_type": "markdown",
   "id": "3004c4f9",
   "metadata": {},
   "source": [
    "### Load the dataset"
   ]
  },
  {
   "cell_type": "code",
   "execution_count": 2,
   "id": "d5c839dc",
   "metadata": {},
   "outputs": [
    {
     "data": {
      "text/plain": [
       "(891, 12)"
      ]
     },
     "execution_count": 2,
     "metadata": {},
     "output_type": "execute_result"
    }
   ],
   "source": [
    "df_train=pd.read_csv(\"titanic.csv\")\n",
    "df_train.shape"
   ]
  },
  {
   "cell_type": "code",
   "execution_count": 3,
   "id": "11d63e8c",
   "metadata": {},
   "outputs": [
    {
     "data": {
      "text/html": [
       "<div>\n",
       "<style scoped>\n",
       "    .dataframe tbody tr th:only-of-type {\n",
       "        vertical-align: middle;\n",
       "    }\n",
       "\n",
       "    .dataframe tbody tr th {\n",
       "        vertical-align: top;\n",
       "    }\n",
       "\n",
       "    .dataframe thead th {\n",
       "        text-align: right;\n",
       "    }\n",
       "</style>\n",
       "<table border=\"1\" class=\"dataframe\">\n",
       "  <thead>\n",
       "    <tr style=\"text-align: right;\">\n",
       "      <th></th>\n",
       "      <th>PassengerId</th>\n",
       "      <th>Survived</th>\n",
       "      <th>Pclass</th>\n",
       "      <th>Name</th>\n",
       "      <th>Sex</th>\n",
       "      <th>Age</th>\n",
       "      <th>SibSp</th>\n",
       "      <th>Parch</th>\n",
       "      <th>Ticket</th>\n",
       "      <th>Fare</th>\n",
       "      <th>Cabin</th>\n",
       "      <th>Embarked</th>\n",
       "    </tr>\n",
       "  </thead>\n",
       "  <tbody>\n",
       "    <tr>\n",
       "      <th>0</th>\n",
       "      <td>1</td>\n",
       "      <td>0</td>\n",
       "      <td>3</td>\n",
       "      <td>Braund, Mr. Owen Harris</td>\n",
       "      <td>male</td>\n",
       "      <td>22.0</td>\n",
       "      <td>1</td>\n",
       "      <td>0</td>\n",
       "      <td>A/5 21171</td>\n",
       "      <td>7.2500</td>\n",
       "      <td>NaN</td>\n",
       "      <td>S</td>\n",
       "    </tr>\n",
       "    <tr>\n",
       "      <th>1</th>\n",
       "      <td>2</td>\n",
       "      <td>1</td>\n",
       "      <td>1</td>\n",
       "      <td>Cumings, Mrs. John Bradley (Florence Briggs Th...</td>\n",
       "      <td>female</td>\n",
       "      <td>38.0</td>\n",
       "      <td>1</td>\n",
       "      <td>0</td>\n",
       "      <td>PC 17599</td>\n",
       "      <td>71.2833</td>\n",
       "      <td>C85</td>\n",
       "      <td>C</td>\n",
       "    </tr>\n",
       "    <tr>\n",
       "      <th>2</th>\n",
       "      <td>3</td>\n",
       "      <td>1</td>\n",
       "      <td>3</td>\n",
       "      <td>Heikkinen, Miss. Laina</td>\n",
       "      <td>female</td>\n",
       "      <td>26.0</td>\n",
       "      <td>0</td>\n",
       "      <td>0</td>\n",
       "      <td>STON/O2. 3101282</td>\n",
       "      <td>7.9250</td>\n",
       "      <td>NaN</td>\n",
       "      <td>S</td>\n",
       "    </tr>\n",
       "    <tr>\n",
       "      <th>3</th>\n",
       "      <td>4</td>\n",
       "      <td>1</td>\n",
       "      <td>1</td>\n",
       "      <td>Futrelle, Mrs. Jacques Heath (Lily May Peel)</td>\n",
       "      <td>female</td>\n",
       "      <td>35.0</td>\n",
       "      <td>1</td>\n",
       "      <td>0</td>\n",
       "      <td>113803</td>\n",
       "      <td>53.1000</td>\n",
       "      <td>C123</td>\n",
       "      <td>S</td>\n",
       "    </tr>\n",
       "    <tr>\n",
       "      <th>4</th>\n",
       "      <td>5</td>\n",
       "      <td>0</td>\n",
       "      <td>3</td>\n",
       "      <td>Allen, Mr. William Henry</td>\n",
       "      <td>male</td>\n",
       "      <td>35.0</td>\n",
       "      <td>0</td>\n",
       "      <td>0</td>\n",
       "      <td>373450</td>\n",
       "      <td>8.0500</td>\n",
       "      <td>NaN</td>\n",
       "      <td>S</td>\n",
       "    </tr>\n",
       "  </tbody>\n",
       "</table>\n",
       "</div>"
      ],
      "text/plain": [
       "   PassengerId  Survived  Pclass  \\\n",
       "0            1         0       3   \n",
       "1            2         1       1   \n",
       "2            3         1       3   \n",
       "3            4         1       1   \n",
       "4            5         0       3   \n",
       "\n",
       "                                                Name     Sex   Age  SibSp  \\\n",
       "0                            Braund, Mr. Owen Harris    male  22.0      1   \n",
       "1  Cumings, Mrs. John Bradley (Florence Briggs Th...  female  38.0      1   \n",
       "2                             Heikkinen, Miss. Laina  female  26.0      0   \n",
       "3       Futrelle, Mrs. Jacques Heath (Lily May Peel)  female  35.0      1   \n",
       "4                           Allen, Mr. William Henry    male  35.0      0   \n",
       "\n",
       "   Parch            Ticket     Fare Cabin Embarked  \n",
       "0      0         A/5 21171   7.2500   NaN        S  \n",
       "1      0          PC 17599  71.2833   C85        C  \n",
       "2      0  STON/O2. 3101282   7.9250   NaN        S  \n",
       "3      0            113803  53.1000  C123        S  \n",
       "4      0            373450   8.0500   NaN        S  "
      ]
     },
     "execution_count": 3,
     "metadata": {},
     "output_type": "execute_result"
    }
   ],
   "source": [
    "df_train.head()"
   ]
  },
  {
   "cell_type": "markdown",
   "id": "9edb8b54",
   "metadata": {},
   "source": [
    "### check ferquencies of categorial column"
   ]
  },
  {
   "cell_type": "code",
   "execution_count": 4,
   "id": "03990f05",
   "metadata": {},
   "outputs": [
    {
     "data": {
      "text/plain": [
       "0    549\n",
       "1    342\n",
       "Name: Survived, dtype: int64"
      ]
     },
     "execution_count": 4,
     "metadata": {},
     "output_type": "execute_result"
    }
   ],
   "source": [
    "df_train.Survived.value_counts()"
   ]
  },
  {
   "cell_type": "code",
   "execution_count": 5,
   "id": "f236641e",
   "metadata": {},
   "outputs": [
    {
     "data": {
      "text/plain": [
       "0    0.616162\n",
       "1    0.383838\n",
       "Name: Survived, dtype: float64"
      ]
     },
     "execution_count": 5,
     "metadata": {},
     "output_type": "execute_result"
    }
   ],
   "source": [
    "df_train.Survived.value_counts(1) #normalised=True"
   ]
  },
  {
   "cell_type": "code",
   "execution_count": 6,
   "id": "21c405b4",
   "metadata": {},
   "outputs": [
    {
     "data": {
      "text/plain": [
       "male      577\n",
       "female    314\n",
       "Name: Sex, dtype: int64"
      ]
     },
     "execution_count": 6,
     "metadata": {},
     "output_type": "execute_result"
    }
   ],
   "source": [
    "df_train.Sex.value_counts()"
   ]
  },
  {
   "cell_type": "code",
   "execution_count": 7,
   "id": "e3faebbb",
   "metadata": {},
   "outputs": [
    {
     "data": {
      "text/plain": [
       "S    644\n",
       "C    168\n",
       "Q     77\n",
       "Name: Embarked, dtype: int64"
      ]
     },
     "execution_count": 7,
     "metadata": {},
     "output_type": "execute_result"
    }
   ],
   "source": [
    "df_train.Embarked.value_counts()"
   ]
  },
  {
   "cell_type": "markdown",
   "id": "40dc9b5f",
   "metadata": {},
   "source": [
    "### check mising values"
   ]
  },
  {
   "cell_type": "code",
   "execution_count": 8,
   "id": "e872ca82",
   "metadata": {},
   "outputs": [
    {
     "data": {
      "text/plain": [
       "PassengerId      0\n",
       "Survived         0\n",
       "Pclass           0\n",
       "Name             0\n",
       "Sex              0\n",
       "Age            177\n",
       "SibSp            0\n",
       "Parch            0\n",
       "Ticket           0\n",
       "Fare             0\n",
       "Cabin          687\n",
       "Embarked         2\n",
       "dtype: int64"
      ]
     },
     "execution_count": 8,
     "metadata": {},
     "output_type": "execute_result"
    }
   ],
   "source": [
    "df_train.isnull().sum()"
   ]
  },
  {
   "cell_type": "markdown",
   "id": "9897d7f6",
   "metadata": {},
   "source": [
    "### Retain relevant feature"
   ]
  },
  {
   "cell_type": "code",
   "execution_count": 9,
   "id": "159bef4f",
   "metadata": {},
   "outputs": [
    {
     "data": {
      "text/plain": [
       "Index(['PassengerId', 'Survived', 'Pclass', 'Name', 'Sex', 'Age', 'SibSp',\n",
       "       'Parch', 'Ticket', 'Fare', 'Cabin', 'Embarked'],\n",
       "      dtype='object')"
      ]
     },
     "execution_count": 9,
     "metadata": {},
     "output_type": "execute_result"
    }
   ],
   "source": [
    "df_train.columns"
   ]
  },
  {
   "cell_type": "markdown",
   "id": "9b2ce9d9",
   "metadata": {},
   "source": [
    "### Drop irrevent feature"
   ]
  },
  {
   "cell_type": "code",
   "execution_count": 10,
   "id": "5deb2b58",
   "metadata": {},
   "outputs": [
    {
     "data": {
      "text/html": [
       "<div>\n",
       "<style scoped>\n",
       "    .dataframe tbody tr th:only-of-type {\n",
       "        vertical-align: middle;\n",
       "    }\n",
       "\n",
       "    .dataframe tbody tr th {\n",
       "        vertical-align: top;\n",
       "    }\n",
       "\n",
       "    .dataframe thead th {\n",
       "        text-align: right;\n",
       "    }\n",
       "</style>\n",
       "<table border=\"1\" class=\"dataframe\">\n",
       "  <thead>\n",
       "    <tr style=\"text-align: right;\">\n",
       "      <th></th>\n",
       "      <th>Survived</th>\n",
       "      <th>Pclass</th>\n",
       "      <th>Sex</th>\n",
       "      <th>Age</th>\n",
       "      <th>SibSp</th>\n",
       "      <th>Parch</th>\n",
       "      <th>Fare</th>\n",
       "      <th>Embarked</th>\n",
       "    </tr>\n",
       "  </thead>\n",
       "  <tbody>\n",
       "    <tr>\n",
       "      <th>0</th>\n",
       "      <td>0</td>\n",
       "      <td>3</td>\n",
       "      <td>male</td>\n",
       "      <td>22.0</td>\n",
       "      <td>1</td>\n",
       "      <td>0</td>\n",
       "      <td>7.2500</td>\n",
       "      <td>S</td>\n",
       "    </tr>\n",
       "    <tr>\n",
       "      <th>1</th>\n",
       "      <td>1</td>\n",
       "      <td>1</td>\n",
       "      <td>female</td>\n",
       "      <td>38.0</td>\n",
       "      <td>1</td>\n",
       "      <td>0</td>\n",
       "      <td>71.2833</td>\n",
       "      <td>C</td>\n",
       "    </tr>\n",
       "    <tr>\n",
       "      <th>2</th>\n",
       "      <td>1</td>\n",
       "      <td>3</td>\n",
       "      <td>female</td>\n",
       "      <td>26.0</td>\n",
       "      <td>0</td>\n",
       "      <td>0</td>\n",
       "      <td>7.9250</td>\n",
       "      <td>S</td>\n",
       "    </tr>\n",
       "    <tr>\n",
       "      <th>3</th>\n",
       "      <td>1</td>\n",
       "      <td>1</td>\n",
       "      <td>female</td>\n",
       "      <td>35.0</td>\n",
       "      <td>1</td>\n",
       "      <td>0</td>\n",
       "      <td>53.1000</td>\n",
       "      <td>S</td>\n",
       "    </tr>\n",
       "    <tr>\n",
       "      <th>4</th>\n",
       "      <td>0</td>\n",
       "      <td>3</td>\n",
       "      <td>male</td>\n",
       "      <td>35.0</td>\n",
       "      <td>0</td>\n",
       "      <td>0</td>\n",
       "      <td>8.0500</td>\n",
       "      <td>S</td>\n",
       "    </tr>\n",
       "  </tbody>\n",
       "</table>\n",
       "</div>"
      ],
      "text/plain": [
       "   Survived  Pclass     Sex   Age  SibSp  Parch     Fare Embarked\n",
       "0         0       3    male  22.0      1      0   7.2500        S\n",
       "1         1       1  female  38.0      1      0  71.2833        C\n",
       "2         1       3  female  26.0      0      0   7.9250        S\n",
       "3         1       1  female  35.0      1      0  53.1000        S\n",
       "4         0       3    male  35.0      0      0   8.0500        S"
      ]
     },
     "execution_count": 10,
     "metadata": {},
     "output_type": "execute_result"
    }
   ],
   "source": [
    "df_train=df_train.drop([\"PassengerId\",'Name', 'Ticket','Cabin'], axis=1)\n",
    "df_train.head()"
   ]
  },
  {
   "cell_type": "markdown",
   "id": "10a2a33f",
   "metadata": {},
   "source": [
    "### Missing Value Imputation"
   ]
  },
  {
   "cell_type": "code",
   "execution_count": 11,
   "id": "5a91653d",
   "metadata": {},
   "outputs": [
    {
     "data": {
      "text/html": [
       "<div>\n",
       "<style scoped>\n",
       "    .dataframe tbody tr th:only-of-type {\n",
       "        vertical-align: middle;\n",
       "    }\n",
       "\n",
       "    .dataframe tbody tr th {\n",
       "        vertical-align: top;\n",
       "    }\n",
       "\n",
       "    .dataframe thead th {\n",
       "        text-align: right;\n",
       "    }\n",
       "</style>\n",
       "<table border=\"1\" class=\"dataframe\">\n",
       "  <thead>\n",
       "    <tr style=\"text-align: right;\">\n",
       "      <th></th>\n",
       "      <th>Survived</th>\n",
       "      <th>Age</th>\n",
       "      <th>SibSp</th>\n",
       "      <th>Parch</th>\n",
       "      <th>Fare</th>\n",
       "    </tr>\n",
       "    <tr>\n",
       "      <th>Pclass</th>\n",
       "      <th></th>\n",
       "      <th></th>\n",
       "      <th></th>\n",
       "      <th></th>\n",
       "      <th></th>\n",
       "    </tr>\n",
       "  </thead>\n",
       "  <tbody>\n",
       "    <tr>\n",
       "      <th>1</th>\n",
       "      <td>0.629630</td>\n",
       "      <td>38.233441</td>\n",
       "      <td>0.416667</td>\n",
       "      <td>0.356481</td>\n",
       "      <td>84.154687</td>\n",
       "    </tr>\n",
       "    <tr>\n",
       "      <th>2</th>\n",
       "      <td>0.472826</td>\n",
       "      <td>29.877630</td>\n",
       "      <td>0.402174</td>\n",
       "      <td>0.380435</td>\n",
       "      <td>20.662183</td>\n",
       "    </tr>\n",
       "    <tr>\n",
       "      <th>3</th>\n",
       "      <td>0.242363</td>\n",
       "      <td>25.140620</td>\n",
       "      <td>0.615071</td>\n",
       "      <td>0.393075</td>\n",
       "      <td>13.675550</td>\n",
       "    </tr>\n",
       "  </tbody>\n",
       "</table>\n",
       "</div>"
      ],
      "text/plain": [
       "        Survived        Age     SibSp     Parch       Fare\n",
       "Pclass                                                    \n",
       "1       0.629630  38.233441  0.416667  0.356481  84.154687\n",
       "2       0.472826  29.877630  0.402174  0.380435  20.662183\n",
       "3       0.242363  25.140620  0.615071  0.393075  13.675550"
      ]
     },
     "execution_count": 11,
     "metadata": {},
     "output_type": "execute_result"
    }
   ],
   "source": [
    "df_train.groupby(['Pclass']).mean()"
   ]
  },
  {
   "cell_type": "code",
   "execution_count": 12,
   "id": "42b94137",
   "metadata": {},
   "outputs": [],
   "source": [
    "def age_appox(cols):\n",
    "    Age   =cols[0]\n",
    "    Pclass=cols[1]\n",
    "    \n",
    "    if pd.isnull(Age):\n",
    "        if Pclass==1:\n",
    "            return 38\n",
    "        elif Pclass==2:\n",
    "            return 30\n",
    "        else:\n",
    "            return 25\n",
    "    else:\n",
    "        return Age"
   ]
  },
  {
   "cell_type": "code",
   "execution_count": 13,
   "id": "365c3fbf",
   "metadata": {},
   "outputs": [],
   "source": [
    "df_train['Age']=df_train[['Age','Pclass']].apply(age_appox, axis=1)"
   ]
  },
  {
   "cell_type": "code",
   "execution_count": 14,
   "id": "f12c4c90",
   "metadata": {},
   "outputs": [
    {
     "data": {
      "text/plain": [
       "Survived    0\n",
       "Pclass      0\n",
       "Sex         0\n",
       "Age         0\n",
       "SibSp       0\n",
       "Parch       0\n",
       "Fare        0\n",
       "Embarked    2\n",
       "dtype: int64"
      ]
     },
     "execution_count": 14,
     "metadata": {},
     "output_type": "execute_result"
    }
   ],
   "source": [
    "#check null again\n",
    "df_train.isnull().sum()"
   ]
  },
  {
   "cell_type": "code",
   "execution_count": 15,
   "id": "e7064f0b",
   "metadata": {},
   "outputs": [
    {
     "data": {
      "text/plain": [
       "Survived    0\n",
       "Pclass      0\n",
       "Sex         0\n",
       "Age         0\n",
       "SibSp       0\n",
       "Parch       0\n",
       "Fare        0\n",
       "Embarked    0\n",
       "dtype: int64"
      ]
     },
     "execution_count": 15,
     "metadata": {},
     "output_type": "execute_result"
    }
   ],
   "source": [
    "df_train.dropna(inplace=True)\n",
    "df_train.isnull().sum()"
   ]
  },
  {
   "cell_type": "markdown",
   "id": "52b1142c",
   "metadata": {},
   "source": [
    "### Encoding the text values in categorical form"
   ]
  },
  {
   "cell_type": "code",
   "execution_count": 16,
   "id": "8a6cce53",
   "metadata": {},
   "outputs": [
    {
     "data": {
      "text/plain": [
       "Survived      int64\n",
       "Pclass        int64\n",
       "Sex          object\n",
       "Age         float64\n",
       "SibSp         int64\n",
       "Parch         int64\n",
       "Fare        float64\n",
       "Embarked     object\n",
       "dtype: object"
      ]
     },
     "execution_count": 16,
     "metadata": {},
     "output_type": "execute_result"
    }
   ],
   "source": [
    "df_train.dtypes"
   ]
  },
  {
   "cell_type": "code",
   "execution_count": 17,
   "id": "ac0b1786",
   "metadata": {},
   "outputs": [],
   "source": [
    "#One_hot_Encoding\n",
    "df_train_dummied=pd.get_dummies(df_train, columns=[\"Sex\",\"Embarked\"], drop_first=True)"
   ]
  },
  {
   "cell_type": "code",
   "execution_count": 18,
   "id": "ee63ea76",
   "metadata": {},
   "outputs": [
    {
     "data": {
      "text/html": [
       "<div>\n",
       "<style scoped>\n",
       "    .dataframe tbody tr th:only-of-type {\n",
       "        vertical-align: middle;\n",
       "    }\n",
       "\n",
       "    .dataframe tbody tr th {\n",
       "        vertical-align: top;\n",
       "    }\n",
       "\n",
       "    .dataframe thead th {\n",
       "        text-align: right;\n",
       "    }\n",
       "</style>\n",
       "<table border=\"1\" class=\"dataframe\">\n",
       "  <thead>\n",
       "    <tr style=\"text-align: right;\">\n",
       "      <th></th>\n",
       "      <th>Survived</th>\n",
       "      <th>Pclass</th>\n",
       "      <th>Age</th>\n",
       "      <th>SibSp</th>\n",
       "      <th>Parch</th>\n",
       "      <th>Fare</th>\n",
       "      <th>Sex_male</th>\n",
       "      <th>Embarked_Q</th>\n",
       "      <th>Embarked_S</th>\n",
       "    </tr>\n",
       "  </thead>\n",
       "  <tbody>\n",
       "    <tr>\n",
       "      <th>0</th>\n",
       "      <td>0</td>\n",
       "      <td>3</td>\n",
       "      <td>22.0</td>\n",
       "      <td>1</td>\n",
       "      <td>0</td>\n",
       "      <td>7.2500</td>\n",
       "      <td>1</td>\n",
       "      <td>0</td>\n",
       "      <td>1</td>\n",
       "    </tr>\n",
       "    <tr>\n",
       "      <th>1</th>\n",
       "      <td>1</td>\n",
       "      <td>1</td>\n",
       "      <td>38.0</td>\n",
       "      <td>1</td>\n",
       "      <td>0</td>\n",
       "      <td>71.2833</td>\n",
       "      <td>0</td>\n",
       "      <td>0</td>\n",
       "      <td>0</td>\n",
       "    </tr>\n",
       "    <tr>\n",
       "      <th>2</th>\n",
       "      <td>1</td>\n",
       "      <td>3</td>\n",
       "      <td>26.0</td>\n",
       "      <td>0</td>\n",
       "      <td>0</td>\n",
       "      <td>7.9250</td>\n",
       "      <td>0</td>\n",
       "      <td>0</td>\n",
       "      <td>1</td>\n",
       "    </tr>\n",
       "    <tr>\n",
       "      <th>3</th>\n",
       "      <td>1</td>\n",
       "      <td>1</td>\n",
       "      <td>35.0</td>\n",
       "      <td>1</td>\n",
       "      <td>0</td>\n",
       "      <td>53.1000</td>\n",
       "      <td>0</td>\n",
       "      <td>0</td>\n",
       "      <td>1</td>\n",
       "    </tr>\n",
       "    <tr>\n",
       "      <th>4</th>\n",
       "      <td>0</td>\n",
       "      <td>3</td>\n",
       "      <td>35.0</td>\n",
       "      <td>0</td>\n",
       "      <td>0</td>\n",
       "      <td>8.0500</td>\n",
       "      <td>1</td>\n",
       "      <td>0</td>\n",
       "      <td>1</td>\n",
       "    </tr>\n",
       "  </tbody>\n",
       "</table>\n",
       "</div>"
      ],
      "text/plain": [
       "   Survived  Pclass   Age  SibSp  Parch     Fare  Sex_male  Embarked_Q  \\\n",
       "0         0       3  22.0      1      0   7.2500         1           0   \n",
       "1         1       1  38.0      1      0  71.2833         0           0   \n",
       "2         1       3  26.0      0      0   7.9250         0           0   \n",
       "3         1       1  35.0      1      0  53.1000         0           0   \n",
       "4         0       3  35.0      0      0   8.0500         1           0   \n",
       "\n",
       "   Embarked_S  \n",
       "0           1  \n",
       "1           0  \n",
       "2           1  \n",
       "3           1  \n",
       "4           1  "
      ]
     },
     "execution_count": 18,
     "metadata": {},
     "output_type": "execute_result"
    }
   ],
   "source": [
    "df_train_dummied.head()"
   ]
  },
  {
   "cell_type": "markdown",
   "id": "3036863a",
   "metadata": {},
   "source": [
    "### checking for independance between column"
   ]
  },
  {
   "cell_type": "code",
   "execution_count": 19,
   "id": "953cda32",
   "metadata": {},
   "outputs": [
    {
     "data": {
      "image/png": "[encoded data removed]",
      "text/plain": [
       "<Figure size 720x576 with 2 Axes>"
      ]
     },
     "metadata": {
      "needs_background": "light"
     },
     "output_type": "display_data"
    }
   ],
   "source": [
    "plt.figure(figsize=(10,8))\n",
    "sns.heatmap(df_train_dummied.corr(),\n",
    "           vmin=-1,\n",
    "           vmax=1,\n",
    "           cmap='plasma',\n",
    "           annot=True);"
   ]
  },
  {
   "cell_type": "code",
   "execution_count": 20,
   "id": "6477eeb9",
   "metadata": {},
   "outputs": [],
   "source": [
    "#create X and y\n",
    "X=df_train_dummied.drop(\"Survived\", axis=1)\n",
    "y=df_train_dummied[\"Survived\"]"
   ]
  },
  {
   "cell_type": "code",
   "execution_count": 21,
   "id": "3e62dbef",
   "metadata": {},
   "outputs": [],
   "source": [
    "#split the data\n",
    "X_train, X_test, y_train, y_test=train_test_split(X,y, test_size=0.3, random_state=11)"
   ]
  },
  {
   "cell_type": "code",
   "execution_count": 22,
   "id": "626196a8",
   "metadata": {},
   "outputs": [
    {
     "data": {
      "text/plain": [
       "((889, 9), (622, 8), (267, 8))"
      ]
     },
     "execution_count": 22,
     "metadata": {},
     "output_type": "execute_result"
    }
   ],
   "source": [
    "#check the shape\n",
    "df_train_dummied.shape,X_train.shape, X_test.shape"
   ]
  },
  {
   "cell_type": "code",
   "execution_count": 23,
   "id": "36f9afff",
   "metadata": {},
   "outputs": [
    {
     "data": {
      "text/html": [
       "<style>#sk-container-id-1 {color: black;background-color: white;}#sk-container-id-1 pre{padding: 0;}#sk-container-id-1 div.sk-toggleable {background-color: white;}#sk-container-id-1 label.sk-toggleable__label {cursor: pointer;display: block;width: 100%;margin-bottom: 0;padding: 0.3em;box-sizing: border-box;text-align: center;}#sk-container-id-1 label.sk-toggleable__label-arrow:before {content: \"▸\";float: left;margin-right: 0.25em;color: #696969;}#sk-container-id-1 label.sk-toggleable__label-arrow:hover:before {color: black;}#sk-container-id-1 div.sk-estimator:hover label.sk-toggleable__label-arrow:before {color: black;}#sk-container-id-1 div.sk-toggleable__content {max-height: 0;max-width: 0;overflow: hidden;text-align: left;background-color: #f0f8ff;}#sk-container-id-1 div.sk-toggleable__content pre {margin: 0.2em;color: black;border-radius: 0.25em;background-color: #f0f8ff;}#sk-container-id-1 input.sk-toggleable__control:checked~div.sk-toggleable__content {max-height: 200px;max-width: 100%;overflow: auto;}#sk-container-id-1 input.sk-toggleable__control:checked~label.sk-toggleable__label-arrow:before {content: \"▾\";}#sk-container-id-1 div.sk-estimator input.sk-toggleable__control:checked~label.sk-toggleable__label {background-color: #d4ebff;}#sk-container-id-1 div.sk-label input.sk-toggleable__control:checked~label.sk-toggleable__label {background-color: #d4ebff;}#sk-container-id-1 input.sk-hidden--visually {border: 0;clip: rect(1px 1px 1px 1px);clip: rect(1px, 1px, 1px, 1px);height: 1px;margin: -1px;overflow: hidden;padding: 0;position: absolute;width: 1px;}#sk-container-id-1 div.sk-estimator {font-family: monospace;background-color: #f0f8ff;border: 1px dotted black;border-radius: 0.25em;box-sizing: border-box;margin-bottom: 0.5em;}#sk-container-id-1 div.sk-estimator:hover {background-color: #d4ebff;}#sk-container-id-1 div.sk-parallel-item::after {content: \"\";width: 100%;border-bottom: 1px solid gray;flex-grow: 1;}#sk-container-id-1 div.sk-label:hover label.sk-toggleable__label {background-color: #d4ebff;}#sk-container-id-1 div.sk-serial::before {content: \"\";position: absolute;border-left: 1px solid gray;box-sizing: border-box;top: 0;bottom: 0;left: 50%;z-index: 0;}#sk-container-id-1 div.sk-serial {display: flex;flex-direction: column;align-items: center;background-color: white;padding-right: 0.2em;padding-left: 0.2em;position: relative;}#sk-container-id-1 div.sk-item {position: relative;z-index: 1;}#sk-container-id-1 div.sk-parallel {display: flex;align-items: stretch;justify-content: center;background-color: white;position: relative;}#sk-container-id-1 div.sk-item::before, #sk-container-id-1 div.sk-parallel-item::before {content: \"\";position: absolute;border-left: 1px solid gray;box-sizing: border-box;top: 0;bottom: 0;left: 50%;z-index: -1;}#sk-container-id-1 div.sk-parallel-item {display: flex;flex-direction: column;z-index: 1;position: relative;background-color: white;}#sk-container-id-1 div.sk-parallel-item:first-child::after {align-self: flex-end;width: 50%;}#sk-container-id-1 div.sk-parallel-item:last-child::after {align-self: flex-start;width: 50%;}#sk-container-id-1 div.sk-parallel-item:only-child::after {width: 0;}#sk-container-id-1 div.sk-dashed-wrapped {border: 1px dashed gray;margin: 0 0.4em 0.5em 0.4em;box-sizing: border-box;padding-bottom: 0.4em;background-color: white;}#sk-container-id-1 div.sk-label label {font-family: monospace;font-weight: bold;display: inline-block;line-height: 1.2em;}#sk-container-id-1 div.sk-label-container {text-align: center;}#sk-container-id-1 div.sk-container {/* jupyter's `normalize.less` sets `[hidden] { display: none; }` but bootstrap.min.css set `[hidden] { display: none !important; }` so we also need the `!important` here to be able to override the default hidden behavior on the sphinx rendered scikit-learn.org. See: https://github.com/scikit-learn/scikit-learn/issues/21755 */display: inline-block !important;position: relative;}#sk-container-id-1 div.sk-text-repr-fallback {display: none;}</style><div id=\"sk-container-id-1\" class=\"sk-top-container\"><div class=\"sk-text-repr-fallback\"><pre>LogisticRegression()</pre><b>In a Jupyter environment, please rerun this cell to show the HTML representation or trust the notebook. <br />On GitHub, the HTML representation is unable to render, please try loading this page with nbviewer.org.</b></div><div class=\"sk-container\" hidden><div class=\"sk-item\"><div class=\"sk-estimator sk-toggleable\"><input class=\"sk-toggleable__control sk-hidden--visually\" id=\"sk-estimator-id-1\" type=\"checkbox\" checked><label for=\"sk-estimator-id-1\" class=\"sk-toggleable__label sk-toggleable__label-arrow\">LogisticRegression</label><div class=\"sk-toggleable__content\"><pre>LogisticRegression()</pre></div></div></div></div></div>"
      ],
      "text/plain": [
       "LogisticRegression()"
      ]
     },
     "execution_count": 23,
     "metadata": {},
     "output_type": "execute_result"
    }
   ],
   "source": [
    "#create logistic regression object\n",
    "LogReg=LogisticRegression()\n",
    "LogReg.fit(X_train,y_train)"
   ]
  },
  {
   "cell_type": "code",
   "execution_count": 24,
   "id": "25847b8d",
   "metadata": {},
   "outputs": [],
   "source": [
    "#test prdiction\n",
    "y_pred=LogReg.predict(X_test)"
   ]
  },
  {
   "cell_type": "code",
   "execution_count": 25,
   "id": "a0c3adff",
   "metadata": {},
   "outputs": [],
   "source": [
    "#train prediction\n",
    "pred_train=LogReg.predict(X_train)"
   ]
  },
  {
   "cell_type": "code",
   "execution_count": 26,
   "id": "e23432d6",
   "metadata": {},
   "outputs": [
    {
     "data": {
      "text/plain": [
       "<sklearn.metrics._plot.confusion_matrix.ConfusionMatrixDisplay at 0x1ecaf53dc70>"
      ]
     },
     "execution_count": 26,
     "metadata": {},
     "output_type": "execute_result"
    },
    {
     "data": {
      "image/png": "[encoded data removed]",
      "text/plain": [
       "<Figure size 432x288 with 2 Axes>"
      ]
     },
     "metadata": {
      "needs_background": "light"
     },
     "output_type": "display_data"
    }
   ],
   "source": [
    "#Confuson matrix for X_test, y_test\n",
    "from sklearn.metrics import plot_confusion_matrix\n",
    "plot_confusion_matrix(LogReg, X_test, y_test)\n",
    "#plt.grid();"
   ]
  },
  {
   "cell_type": "code",
   "execution_count": 27,
   "id": "3d00a58c",
   "metadata": {},
   "outputs": [
    {
     "data": {
      "text/plain": [
       "0.8389513108614233"
      ]
     },
     "execution_count": 27,
     "metadata": {},
     "output_type": "execute_result"
    }
   ],
   "source": [
    "#Acc of test data\n",
    "accuracy_score(y_test, y_pred)"
   ]
  },
  {
   "cell_type": "code",
   "execution_count": 28,
   "id": "7b5891be",
   "metadata": {},
   "outputs": [
    {
     "data": {
      "image/png": "[encoded data removed]",
      "text/plain": [
       "<Figure size 432x288 with 2 Axes>"
      ]
     },
     "metadata": {
      "needs_background": "light"
     },
     "output_type": "display_data"
    }
   ],
   "source": [
    "#Confuson matrix for X_train, y_train\n",
    "plot_confusion_matrix(LogReg, X_train, y_train);"
   ]
  },
  {
   "cell_type": "code",
   "execution_count": 29,
   "id": "5e0e7859",
   "metadata": {},
   "outputs": [
    {
     "data": {
      "text/plain": [
       "0.7942122186495176"
      ]
     },
     "execution_count": 29,
     "metadata": {},
     "output_type": "execute_result"
    }
   ],
   "source": [
    "#Acc of train data \n",
    "accuracy_score(y_train, pred_train)"
   ]
  },
  {
   "cell_type": "code",
   "execution_count": 30,
   "id": "dfb4a509",
   "metadata": {},
   "outputs": [
    {
     "name": "stdout",
     "output_type": "stream",
     "text": [
      "              precision    recall  f1-score   support\n",
      "\n",
      "           0       0.86      0.88      0.87       161\n",
      "           1       0.81      0.78      0.79       106\n",
      "\n",
      "    accuracy                           0.84       267\n",
      "   macro avg       0.83      0.83      0.83       267\n",
      "weighted avg       0.84      0.84      0.84       267\n",
      "\n"
     ]
    }
   ],
   "source": [
    "#classification_report of test data\n",
    "print(classification_report(y_test, y_pred))"
   ]
  },
  {
   "cell_type": "code",
   "execution_count": 31,
   "id": "096e62e6",
   "metadata": {},
   "outputs": [
    {
     "data": {
      "text/plain": [
       "array([[-1.03726876, -0.03573297, -0.27077522, -0.16739864,  0.00459522,\n",
       "        -2.28931392,  0.11718966, -0.35565677]])"
      ]
     },
     "execution_count": 31,
     "metadata": {},
     "output_type": "execute_result"
    }
   ],
   "source": [
    "# Beta coefficient\n",
    "LogReg.coef_"
   ]
  },
  {
   "cell_type": "code",
   "execution_count": 32,
   "id": "fefda56e",
   "metadata": {},
   "outputs": [
    {
     "data": {
      "text/plain": [
       "array([4.61391705])"
      ]
     },
     "execution_count": 32,
     "metadata": {},
     "output_type": "execute_result"
    }
   ],
   "source": [
    "# intercept\n",
    "LogReg.intercept_"
   ]
  },
  {
   "cell_type": "code",
   "execution_count": 33,
   "id": "4a4ff6f3",
   "metadata": {},
   "outputs": [
    {
     "data": {
      "text/plain": [
       "array([1, 0, 1, 1, 0, 0, 0, 1, 1, 0], dtype=int64)"
      ]
     },
     "execution_count": 33,
     "metadata": {},
     "output_type": "execute_result"
    }
   ],
   "source": [
    "y_pred[:10]"
   ]
  },
  {
   "cell_type": "code",
   "execution_count": 34,
   "id": "5d2d9184",
   "metadata": {},
   "outputs": [
    {
     "name": "stdout",
     "output_type": "stream",
     "text": [
      "              precision    recall  f1-score   support\n",
      "\n",
      "           0       0.81      0.87      0.84       388\n",
      "           1       0.75      0.67      0.71       234\n",
      "\n",
      "    accuracy                           0.79       622\n",
      "   macro avg       0.78      0.77      0.78       622\n",
      "weighted avg       0.79      0.79      0.79       622\n",
      "\n"
     ]
    }
   ],
   "source": [
    "#classification_report of train data\n",
    "print(classification_report(y_train, pred_train))"
   ]
  },
  {
   "cell_type": "code",
   "execution_count": 35,
   "id": "1bf7ad9b",
   "metadata": {},
   "outputs": [
    {
     "data": {
      "text/plain": [
       "array([[0.37013485, 0.62986515],\n",
       "       [0.92815245, 0.07184755],\n",
       "       [0.35595864, 0.64404136],\n",
       "       [0.48211003, 0.51788997],\n",
       "       [0.81043639, 0.18956361],\n",
       "       [0.83379606, 0.16620394],\n",
       "       [0.56952136, 0.43047864],\n",
       "       [0.07668836, 0.92331164],\n",
       "       [0.06856081, 0.93143919],\n",
       "       [0.82167319, 0.17832681],\n",
       "       [0.57587847, 0.42412153],\n",
       "       [0.85628793, 0.14371207],\n",
       "       [0.82161986, 0.17838014],\n",
       "       [0.07867028, 0.92132972],\n",
       "       [0.2690758 , 0.7309242 ],\n",
       "       [0.86128355, 0.13871645],\n",
       "       [0.85357089, 0.14642911],\n",
       "       [0.62308284, 0.37691716],\n",
       "       [0.06497422, 0.93502578],\n",
       "       [0.90464173, 0.09535827],\n",
       "       [0.45379955, 0.54620045],\n",
       "       [0.59681754, 0.40318246],\n",
       "       [0.86465453, 0.13534547],\n",
       "       [0.82348054, 0.17651946],\n",
       "       [0.87756316, 0.12243684],\n",
       "       [0.88460785, 0.11539215],\n",
       "       [0.88071229, 0.11928771],\n",
       "       [0.49168129, 0.50831871],\n",
       "       [0.70426933, 0.29573067],\n",
       "       [0.92975573, 0.07024427],\n",
       "       [0.06777915, 0.93222085],\n",
       "       [0.69214118, 0.30785882],\n",
       "       [0.88965939, 0.11034061],\n",
       "       [0.61946146, 0.38053854],\n",
       "       [0.88071229, 0.11928771],\n",
       "       [0.93575763, 0.06424237],\n",
       "       [0.36621591, 0.63378409],\n",
       "       [0.91224215, 0.08775785],\n",
       "       [0.89159137, 0.10840863],\n",
       "       [0.90466979, 0.09533021],\n",
       "       [0.08882675, 0.91117325],\n",
       "       [0.96149828, 0.03850172],\n",
       "       [0.85622668, 0.14377332],\n",
       "       [0.32273016, 0.67726984],\n",
       "       [0.53285492, 0.46714508],\n",
       "       [0.25783067, 0.74216933],\n",
       "       [0.31830136, 0.68169864],\n",
       "       [0.76403587, 0.23596413],\n",
       "       [0.49229923, 0.50770077],\n",
       "       [0.08177281, 0.91822719],\n",
       "       [0.81679582, 0.18320418],\n",
       "       [0.73959206, 0.26040794],\n",
       "       [0.26316781, 0.73683219],\n",
       "       [0.68703263, 0.31296737],\n",
       "       [0.44205057, 0.55794943],\n",
       "       [0.82442765, 0.17557235],\n",
       "       [0.13815695, 0.86184305],\n",
       "       [0.82167319, 0.17832681],\n",
       "       [0.8563751 , 0.1436249 ],\n",
       "       [0.86804386, 0.13195614],\n",
       "       [0.22420473, 0.77579527],\n",
       "       [0.22392511, 0.77607489],\n",
       "       [0.05952364, 0.94047636],\n",
       "       [0.87305803, 0.12694197],\n",
       "       [0.63427058, 0.36572942],\n",
       "       [0.91345127, 0.08654873],\n",
       "       [0.27388335, 0.72611665],\n",
       "       [0.1694928 , 0.8305072 ],\n",
       "       [0.06519733, 0.93480267],\n",
       "       [0.83852685, 0.16147315],\n",
       "       [0.87960343, 0.12039657],\n",
       "       [0.85628793, 0.14371207],\n",
       "       [0.07052483, 0.92947517],\n",
       "       [0.28171565, 0.71828435],\n",
       "       [0.20006803, 0.79993197],\n",
       "       [0.92189063, 0.07810937],\n",
       "       [0.31649327, 0.68350673],\n",
       "       [0.40640981, 0.59359019],\n",
       "       [0.18518887, 0.81481113],\n",
       "       [0.4876081 , 0.5123919 ],\n",
       "       [0.81036188, 0.18963812],\n",
       "       [0.07025776, 0.92974224],\n",
       "       [0.03920971, 0.96079029],\n",
       "       [0.05820753, 0.94179247],\n",
       "       [0.05578576, 0.94421424],\n",
       "       [0.88078672, 0.11921328],\n",
       "       [0.85475254, 0.14524746],\n",
       "       [0.88071229, 0.11928771],\n",
       "       [0.86496565, 0.13503435],\n",
       "       [0.85658075, 0.14341925],\n",
       "       [0.74846892, 0.25153108],\n",
       "       [0.76451246, 0.23548754],\n",
       "       [0.75433557, 0.24566443],\n",
       "       [0.88071229, 0.11928771],\n",
       "       [0.31830136, 0.68169864],\n",
       "       [0.87239775, 0.12760225],\n",
       "       [0.04183561, 0.95816439],\n",
       "       [0.90773773, 0.09226227],\n",
       "       [0.90157552, 0.09842448],\n",
       "       [0.406609  , 0.593391  ],\n",
       "       [0.40889255, 0.59110745],\n",
       "       [0.84617845, 0.15382155],\n",
       "       [0.04086032, 0.95913968],\n",
       "       [0.91527803, 0.08472197],\n",
       "       [0.89391276, 0.10608724],\n",
       "       [0.34504787, 0.65495213],\n",
       "       [0.48130282, 0.51869718],\n",
       "       [0.83852946, 0.16147054],\n",
       "       [0.62733281, 0.37266719],\n",
       "       [0.88581049, 0.11418951],\n",
       "       [0.07336787, 0.92663213],\n",
       "       [0.88448798, 0.11551202],\n",
       "       [0.08129955, 0.91870045],\n",
       "       [0.37844971, 0.62155029],\n",
       "       [0.47146332, 0.52853668],\n",
       "       [0.04722128, 0.95277872],\n",
       "       [0.87033996, 0.12966004],\n",
       "       [0.94173456, 0.05826544],\n",
       "       [0.83852685, 0.16147315],\n",
       "       [0.87326141, 0.12673859],\n",
       "       [0.8222728 , 0.1777272 ],\n",
       "       [0.88357249, 0.11642751],\n",
       "       [0.9162892 , 0.0837108 ],\n",
       "       [0.85168939, 0.14831061],\n",
       "       [0.91116404, 0.08883596],\n",
       "       [0.64553092, 0.35446908],\n",
       "       [0.88109797, 0.11890203],\n",
       "       [0.74150724, 0.25849276],\n",
       "       [0.85543188, 0.14456812],\n",
       "       [0.35681326, 0.64318674],\n",
       "       [0.04575997, 0.95424003],\n",
       "       [0.54938339, 0.45061661],\n",
       "       [0.31373138, 0.68626862],\n",
       "       [0.61714388, 0.38285612],\n",
       "       [0.49484906, 0.50515094],\n",
       "       [0.3182224 , 0.6817776 ],\n",
       "       [0.81333261, 0.18666739],\n",
       "       [0.82970721, 0.17029279],\n",
       "       [0.14021528, 0.85978472],\n",
       "       [0.1264816 , 0.8735184 ],\n",
       "       [0.75358831, 0.24641169],\n",
       "       [0.83852946, 0.16147054],\n",
       "       [0.44374371, 0.55625629],\n",
       "       [0.4857877 , 0.5142123 ],\n",
       "       [0.91643008, 0.08356992],\n",
       "       [0.74782771, 0.25217229],\n",
       "       [0.93143543, 0.06856457],\n",
       "       [0.82169002, 0.17830998],\n",
       "       [0.13808173, 0.86191827],\n",
       "       [0.9492918 , 0.0507082 ],\n",
       "       [0.37861206, 0.62138794],\n",
       "       [0.86911563, 0.13088437],\n",
       "       [0.42207035, 0.57792965],\n",
       "       [0.06553167, 0.93446833],\n",
       "       [0.87770116, 0.12229884],\n",
       "       [0.74007849, 0.25992151],\n",
       "       [0.0612461 , 0.9387539 ],\n",
       "       [0.90446816, 0.09553184],\n",
       "       [0.20771617, 0.79228383],\n",
       "       [0.06572649, 0.93427351],\n",
       "       [0.86029151, 0.13970849],\n",
       "       [0.64270367, 0.35729633],\n",
       "       [0.87305803, 0.12694197],\n",
       "       [0.27695119, 0.72304881],\n",
       "       [0.10782701, 0.89217299],\n",
       "       [0.87698336, 0.12301664],\n",
       "       [0.84275347, 0.15724653],\n",
       "       [0.92174388, 0.07825612],\n",
       "       [0.24973887, 0.75026113],\n",
       "       [0.8083678 , 0.1916322 ],\n",
       "       [0.9213554 , 0.0786446 ],\n",
       "       [0.18078245, 0.81921755],\n",
       "       [0.55152926, 0.44847074],\n",
       "       [0.84853266, 0.15146734],\n",
       "       [0.87756316, 0.12243684],\n",
       "       [0.90707172, 0.09292828],\n",
       "       [0.83852946, 0.16147054],\n",
       "       [0.57546216, 0.42453784],\n",
       "       [0.64784261, 0.35215739],\n",
       "       [0.09916703, 0.90083297],\n",
       "       [0.83852946, 0.16147054],\n",
       "       [0.12581125, 0.87418875],\n",
       "       [0.47212403, 0.52787597],\n",
       "       [0.8665066 , 0.1334934 ],\n",
       "       [0.8901112 , 0.1098888 ],\n",
       "       [0.88071229, 0.11928771],\n",
       "       [0.26025245, 0.73974755],\n",
       "       [0.4183549 , 0.5816451 ],\n",
       "       [0.45135607, 0.54864393],\n",
       "       [0.89430963, 0.10569037],\n",
       "       [0.07445385, 0.92554615],\n",
       "       [0.8221325 , 0.1778675 ],\n",
       "       [0.82167319, 0.17832681],\n",
       "       [0.21917473, 0.78082527],\n",
       "       [0.88084499, 0.11915501],\n",
       "       [0.66728693, 0.33271307],\n",
       "       [0.71725309, 0.28274691],\n",
       "       [0.24518243, 0.75481757],\n",
       "       [0.0430583 , 0.9569417 ],\n",
       "       [0.85527327, 0.14472673],\n",
       "       [0.86165943, 0.13834057],\n",
       "       [0.96421925, 0.03578075],\n",
       "       [0.8216872 , 0.1783128 ],\n",
       "       [0.40024811, 0.59975189],\n",
       "       [0.88078672, 0.11921328],\n",
       "       [0.24597386, 0.75402614],\n",
       "       [0.94027638, 0.05972362],\n",
       "       [0.94207819, 0.05792181],\n",
       "       [0.60496001, 0.39503999],\n",
       "       [0.05148897, 0.94851103],\n",
       "       [0.9216103 , 0.0783897 ],\n",
       "       [0.88078672, 0.11921328],\n",
       "       [0.48591936, 0.51408064],\n",
       "       [0.62983016, 0.37016984],\n",
       "       [0.41358828, 0.58641172],\n",
       "       [0.68126329, 0.31873671],\n",
       "       [0.88441556, 0.11558444],\n",
       "       [0.74281792, 0.25718208],\n",
       "       [0.98547977, 0.01452023],\n",
       "       [0.70665636, 0.29334364],\n",
       "       [0.83397824, 0.16602176],\n",
       "       [0.22039332, 0.77960668],\n",
       "       [0.9387614 , 0.0612386 ],\n",
       "       [0.74912164, 0.25087836],\n",
       "       [0.92547041, 0.07452959],\n",
       "       [0.51642066, 0.48357934],\n",
       "       [0.79977196, 0.20022804],\n",
       "       [0.06188038, 0.93811962],\n",
       "       [0.36872154, 0.63127846],\n",
       "       [0.76866645, 0.23133355],\n",
       "       [0.72758686, 0.27241314],\n",
       "       [0.43688501, 0.56311499],\n",
       "       [0.88071229, 0.11928771],\n",
       "       [0.87618586, 0.12381414],\n",
       "       [0.32241931, 0.67758069],\n",
       "       [0.56541089, 0.43458911],\n",
       "       [0.44254994, 0.55745006],\n",
       "       [0.93812646, 0.06187354],\n",
       "       [0.20127151, 0.79872849],\n",
       "       [0.85964043, 0.14035957],\n",
       "       [0.97705341, 0.02294659],\n",
       "       [0.11763343, 0.88236657],\n",
       "       [0.93768713, 0.06231287],\n",
       "       [0.40691571, 0.59308429],\n",
       "       [0.61047772, 0.38952228],\n",
       "       [0.32657717, 0.67342283],\n",
       "       [0.91801802, 0.08198198],\n",
       "       [0.83811167, 0.16188833],\n",
       "       [0.9492254 , 0.0507746 ],\n",
       "       [0.57102178, 0.42897822],\n",
       "       [0.08902381, 0.91097619],\n",
       "       [0.46316955, 0.53683045],\n",
       "       [0.74915185, 0.25084815],\n",
       "       [0.88449187, 0.11550813],\n",
       "       [0.29841476, 0.70158524],\n",
       "       [0.88106787, 0.11893213],\n",
       "       [0.22400539, 0.77599461],\n",
       "       [0.33114899, 0.66885101],\n",
       "       [0.93354017, 0.06645983],\n",
       "       [0.88071229, 0.11928771],\n",
       "       [0.8689827 , 0.1310173 ],\n",
       "       [0.71062701, 0.28937299],\n",
       "       [0.87690689, 0.12309311],\n",
       "       [0.65942986, 0.34057014],\n",
       "       [0.30362283, 0.69637717],\n",
       "       [0.37135067, 0.62864933],\n",
       "       [0.39047312, 0.60952688]])"
      ]
     },
     "execution_count": 35,
     "metadata": {},
     "output_type": "execute_result"
    }
   ],
   "source": [
    "LogReg.predict_proba(X_test)"
   ]
  },
  {
   "cell_type": "code",
   "execution_count": 36,
   "id": "e811d706",
   "metadata": {},
   "outputs": [],
   "source": [
    "# Pickling of model\n",
    "import pickle\n",
    "pickle.dump(LogReg, open(\"Logistic_Regression_Titanic_Classification_model.pkl\", 'wb'))"
   ]
  },
  {
   "cell_type": "code",
   "execution_count": null,
   "id": "d6b4fe81",
   "metadata": {},
   "outputs": [],
   "source": []
  }
 ],
 "metadata": {
  "kernelspec": {
   "display_name": "Python 3",
   "language": "python",
   "name": "python3"
  },
  "language_info": {
   "codemirror_mode": {
    "name": "ipython",
    "version": 3
   },
   "file_extension": ".py",
   "mimetype": "text/x-python",
   "name": "python",
   "nbconvert_exporter": "python",
   "pygments_lexer": "ipython3",
   "version": "3.8.8"
  }
 },
 "nbformat": 4,
 "nbformat_minor": 5
}
